{
 "cells": [
  {
   "cell_type": "code",
   "execution_count": 12,
   "metadata": {},
   "outputs": [],
   "source": [
    "import os\n",
    "import shutil\n",
    "INPUT_FOLDER = './input/'\n",
    "patients = os.listdir(INPUT_FOLDER)\n",
    "patients.sort()\n",
    "AP_FLODER = '/arterial phase/'\n",
    "VP_FLODER = '/venous phase/'"
   ]
  },
  {
   "cell_type": "code",
   "execution_count": 11,
   "metadata": {},
   "outputs": [
    {
     "ename": "FileNotFoundError",
     "evalue": "[WinError 3] The system cannot find the path specified: './input/ap/arterial phase/'",
     "output_type": "error",
     "traceback": [
      "\u001b[1;31m---------------------------------------------------------------------------\u001b[0m",
      "\u001b[1;31mFileNotFoundError\u001b[0m                         Traceback (most recent call last)",
      "\u001b[1;32m<ipython-input-11-0194146fdc03>\u001b[0m in \u001b[0;36m<module>\u001b[1;34m\u001b[0m\n\u001b[0;32m      2\u001b[0m     \u001b[0mold_ap_path\u001b[0m \u001b[1;33m=\u001b[0m \u001b[0mINPUT_FOLDER\u001b[0m \u001b[1;33m+\u001b[0m \u001b[0mpath\u001b[0m \u001b[1;33m+\u001b[0m \u001b[0mAP_FLODER\u001b[0m\u001b[1;33m\u001b[0m\u001b[1;33m\u001b[0m\u001b[0m\n\u001b[0;32m      3\u001b[0m     \u001b[0mold_vp_path\u001b[0m \u001b[1;33m=\u001b[0m \u001b[0mINPUT_FOLDER\u001b[0m \u001b[1;33m+\u001b[0m \u001b[0mpath\u001b[0m \u001b[1;33m+\u001b[0m \u001b[0mVP_FLODER\u001b[0m\u001b[1;33m\u001b[0m\u001b[1;33m\u001b[0m\u001b[0m\n\u001b[1;32m----> 4\u001b[1;33m     \u001b[1;32mfor\u001b[0m \u001b[0mfilename\u001b[0m \u001b[1;32min\u001b[0m \u001b[0mos\u001b[0m\u001b[1;33m.\u001b[0m\u001b[0mlistdir\u001b[0m\u001b[1;33m(\u001b[0m\u001b[0mold_ap_path\u001b[0m\u001b[1;33m)\u001b[0m\u001b[1;33m:\u001b[0m\u001b[1;33m\u001b[0m\u001b[1;33m\u001b[0m\u001b[0m\n\u001b[0m\u001b[0;32m      5\u001b[0m         \u001b[1;32mif\u001b[0m \u001b[1;34m'dcm'\u001b[0m \u001b[1;32min\u001b[0m \u001b[0mfilename\u001b[0m\u001b[1;33m:\u001b[0m\u001b[1;33m\u001b[0m\u001b[1;33m\u001b[0m\u001b[0m\n\u001b[0;32m      6\u001b[0m             \u001b[0mshutil\u001b[0m\u001b[1;33m.\u001b[0m\u001b[0mcopyfile\u001b[0m\u001b[1;33m(\u001b[0m\u001b[0mold_ap_path\u001b[0m \u001b[1;33m+\u001b[0m \u001b[0mfilename\u001b[0m\u001b[1;33m,\u001b[0m \u001b[0mINPUT_FOLDER\u001b[0m \u001b[1;33m+\u001b[0m \u001b[1;34m'ap/'\u001b[0m \u001b[1;33m+\u001b[0m \u001b[0mpath\u001b[0m \u001b[1;33m+\u001b[0m \u001b[0mfilename\u001b[0m\u001b[1;33m)\u001b[0m\u001b[1;33m\u001b[0m\u001b[1;33m\u001b[0m\u001b[0m\n",
      "\u001b[1;31mFileNotFoundError\u001b[0m: [WinError 3] The system cannot find the path specified: './input/ap/arterial phase/'"
     ]
    }
   ],
   "source": [
    "for path in patients:\n",
    "    print(\"start copy\", path)\n",
    "    old_ap_path = INPUT_FOLDER + path + AP_FLODER\n",
    "    old_vp_path = INPUT_FOLDER + path + VP_FLODER\n",
    "    for filename in os.listdir(old_ap_path):\n",
    "        if 'dcm' in filename:\n",
    "            shutil.copyfile(old_ap_path + filename, INPUT_FOLDER + 'ap/' + path + filename)\n",
    "        else:\n",
    "            shutil.copyfile(old_ap_path + filename, INPUT_FOLDER + 'apmask/' + path + filename)\n",
    "    for filename in os.listdir(old_vp_path):\n",
    "        if 'dcm' in filename:\n",
    "            shutil.copyfile(old_vp_path + filename, INPUT_FOLDER + 'vp/' + path + filename)\n",
    "        else:\n",
    "            shutil.copyfile(old_vp_path + filename, INPUT_FOLDER + 'vpmask/' + path + filename)"
   ]
  }
 ],
 "metadata": {
  "kernelspec": {
   "display_name": "DL_CT",
   "language": "python",
   "name": "dl_ct"
  },
  "language_info": {
   "codemirror_mode": {
    "name": "ipython",
    "version": 3
   },
   "file_extension": ".py",
   "mimetype": "text/x-python",
   "name": "python",
   "nbconvert_exporter": "python",
   "pygments_lexer": "ipython3",
   "version": "3.6.7"
  }
 },
 "nbformat": 4,
 "nbformat_minor": 2
}
